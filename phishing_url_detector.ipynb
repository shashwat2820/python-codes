{
  "nbformat": 4,
  "nbformat_minor": 0,
  "metadata": {
    "colab": {
      "name": "phishing_url_detector.ipynb",
      "provenance": [],
      "authorship_tag": "ABX9TyOqxOdZzH1ziFoSvrbYBooD",
      "include_colab_link": true
    },
    "kernelspec": {
      "name": "python3",
      "display_name": "Python 3"
    },
    "language_info": {
      "name": "python"
    }
  },
  "cells": [
    {
      "cell_type": "markdown",
      "metadata": {
        "id": "view-in-github",
        "colab_type": "text"
      },
      "source": [
        "<a href=\"https://colab.research.google.com/github/shashwat2820/python-codes/blob/main/phishing_url_detector.ipynb\" target=\"_parent\"><img src=\"https://colab.research.google.com/assets/colab-badge.svg\" alt=\"Open In Colab\"/></a>"
      ]
    },
    {
      "cell_type": "markdown",
      "metadata": {
        "id": "gxrk7PsUclb2"
      },
      "source": [
        "Rule 1 : IF{\n",
        "\n",
        "URL length < 54 → feature = Legitimate\n",
        "else if URL length ≥ 54 and ≤ 75 → feature = Suspicious\n",
        "\n",
        "otherwise → feature = Phishing"
      ]
    },
    {
      "cell_type": "code",
      "metadata": {
        "colab": {
          "base_uri": "https://localhost:8080/"
        },
        "id": "pux59chUdt1Z",
        "outputId": "3d1619b5-1201-4d60-b4c2-f6fec7ee3765"
      },
      "source": [
        "URL1 = \"http://federmacedoadv.com.br/3f/aze/ab51e2e319e51502f416dbe46b773a5e/?cmd=_home&amp;dispatch=11004d58f5b74f8dc1e7c2e8dd4105e811004d58f5b74f8dc1e7c2e8dd4105e8@phishing.website.html\"\n",
        "URL2 = \"https://Vitbhopal.ac.in\"\n",
        "\n",
        "if len(URL1)>54:\n",
        "  print(\"Phishing URL\")\n",
        "else :\n",
        "  print(\"Legitimate URL\")\n",
        "\n",
        "\n",
        "if len(URL2)>54:\n",
        "  print(\"Phishing URL\")\n",
        "else :\n",
        "  print(\"Legitimate URL\")\n"
      ],
      "execution_count": null,
      "outputs": [
        {
          "output_type": "stream",
          "text": [
            "Phishing URL\n",
            "Legitimate URL\n"
          ],
          "name": "stdout"
        }
      ]
    },
    {
      "cell_type": "markdown",
      "metadata": {
        "id": "gFn4uKsafhgq"
      },
      "source": [
        "Rule 2: IF{\n",
        "TinyURL or bit.ly → Phishing\n",
        "Otherwise → Legitimate"
      ]
    },
    {
      "cell_type": "code",
      "metadata": {
        "colab": {
          "base_uri": "https://localhost:8080/"
        },
        "id": "dypXzUxOfD3r",
        "outputId": "6450ad54-5661-4a9f-c3f0-72f2e1639475"
      },
      "source": [
        "URL1 = \"http://125.38.3.123/fake.html\"\n",
        "URL2 = \"https://tinyurl.com/bit.ly\" \n",
        "\n",
        "if URL1.find(\"tiny\")==-1 or URL1.find(\"bit.ly\")==-1:\n",
        "  print(\"Phishing URL\")\n",
        "else :\n",
        "  print(\"Legitimate URL\")\n",
        "\n",
        "\n",
        "if URL2.find(\"tiny\")==-1 or URL2.find(\"bit.ly\")==-1:\n",
        "  print(\"Phishing URL\")\n",
        "else :\n",
        "  print(\"Legitimate URL\")\n",
        "\n",
        "\n"
      ],
      "execution_count": null,
      "outputs": [
        {
          "output_type": "stream",
          "text": [
            "Phishing URL\n",
            "Legitimate URL\n"
          ],
          "name": "stdout"
        }
      ]
    },
    {
      "cell_type": "markdown",
      "metadata": {
        "id": "_8iDV7Txh8Fy"
      },
      "source": [
        "Rule 3: IF {\n",
        "Url Having @ Symbol → Phishing\n",
        "Otherwise → Legitimate"
      ]
    },
    {
      "cell_type": "code",
      "metadata": {
        "colab": {
          "base_uri": "https://localhost:8080/"
        },
        "id": "9GOutklCiOuv",
        "outputId": "f92553fc-5657-4ec3-bca8-02591132ab97"
      },
      "source": [
        "URL1 = \"http://federmacedoadv.com.br/3f/aze/ab51e2e319e51502f416dbe46b773a5e/?cmd=_home&amp;dispatch=11004d58f5b74f8dc1e7c2e8dd4105e811004d58f5b74f8dc1e7c2e8dd4105e8@phishing.website.html\"\n",
        "URL2 = \"https://Vitbhopal.ac.in\"\n",
        "\n",
        "if URL1.find(\"@\")==-1 :\n",
        "  print(\"Legitimate URL\")\n",
        "else :\n",
        "  print(\"Phishing URL\")\n",
        "\n",
        "\n",
        "if URL2.find(\"@\")==-1 :\n",
        "  print(\"Legitimate URL\")\n",
        "else :\n",
        "  print(\"Phishing URL\")\n",
        "\n",
        "\n"
      ],
      "execution_count": null,
      "outputs": [
        {
          "output_type": "stream",
          "text": [
            "Phishing URL\n",
            "Legitimate URL\n"
          ],
          "name": "stdout"
        }
      ]
    },
    {
      "cell_type": "markdown",
      "metadata": {
        "id": "H8KHiXnbjAaF"
      },
      "source": [
        "Rule 4: IF {\n",
        "\n",
        "\n",
        "Domain Name Part Includes (-) Symbol → Phishing\n",
        "\n",
        "Otherwise → Legitimate"
      ]
    },
    {
      "cell_type": "code",
      "metadata": {
        "colab": {
          "base_uri": "https://localhost:8080/"
        },
        "id": "zKsLcNbvjFFK",
        "outputId": "84cd98e7-c88d-49f6-a99e-cb75aaa394c9"
      },
      "source": [
        "URL1 = \"https://iccibank.com\"\n",
        "URL2 = \"https://icci-bank.com\"\n",
        "\n",
        "\n",
        "if URL1.find(\"-\")==-1 :\n",
        "  print(\"Legitimate URL\")\n",
        "else :\n",
        "  print(\"Phishing URL\")\n",
        "\n",
        "\n",
        "if URL2.find(\"-\")==-1 :\n",
        "  print(\"Legitimate URL\")\n",
        "else :\n",
        "  print(\"Phishing URL\")\n"
      ],
      "execution_count": null,
      "outputs": [
        {
          "output_type": "stream",
          "text": [
            "Legitimate URL\n",
            "Phishing URL\n"
          ],
          "name": "stdout"
        }
      ]
    },
    {
      "cell_type": "markdown",
      "metadata": {
        "id": "kuhOMe9dkGop"
      },
      "source": [
        "Rule 5: IF {\n",
        "Domain Name Part Includes (www) Symbol → Phishing\n",
        "\n",
        "Otherwise → Legitimate"
      ]
    },
    {
      "cell_type": "code",
      "metadata": {
        "colab": {
          "base_uri": "https://localhost:8080/"
        },
        "id": "v_X6pM0NkKce",
        "outputId": "87b9f60a-2046-4295-b88c-71f93c322639"
      },
      "source": [
        "URL1 = \"https://iccibank.com\"\n",
        "URL2 = \"www.vitbopal.ac.in\"\n",
        "\n",
        "\n",
        "if URL1.find(\"www\")==-1 :\n",
        "  print(\"Legitimate URL\")\n",
        "else :\n",
        "  print(\"Phishing URL\")\n",
        "\n",
        "\n",
        "if URL2.find(\"www\")==-1 :\n",
        "  print(\"Legitimate URL\")\n",
        "else :\n",
        "  print(\"Phishing URL\")\n"
      ],
      "execution_count": null,
      "outputs": [
        {
          "output_type": "stream",
          "text": [
            "Legitimate URL\n",
            "Phishing URL\n"
          ],
          "name": "stdout"
        }
      ]
    },
    {
      "cell_type": "markdown",
      "metadata": {
        "id": "6SNNCns8mszZ"
      },
      "source": [
        "Rule 6: IF{\n",
        "           Using HTTP Token in Domain Part of The URL → Phishing\n",
        "           Otherwise → Legitimate"
      ]
    },
    {
      "cell_type": "code",
      "metadata": {
        "colab": {
          "base_uri": "https://localhost:8080/"
        },
        "id": "bL7OSAi-m761",
        "outputId": "4656643e-3689-4d65-ee5b-2a64d6a017fc"
      },
      "source": [
        "URL1 = \"https://iccibank.com\"\n",
        "URL2 = \"www.vitbopal.ac.in\"\n",
        "\n",
        "\n",
        "if URL1.find(\"www\")==-1 :\n",
        "  print(\"Legitimate URL\")\n",
        "else :\n",
        "  print(\"Phishing URL\")\n",
        "\n",
        "\n",
        "if URL2.find(\"www\")==-1 :\n",
        "  print(\"Legitimate URL\")\n",
        "else :\n",
        "  print(\"Phishing URL\")"
      ],
      "execution_count": null,
      "outputs": [
        {
          "output_type": "stream",
          "text": [
            "Legitimate URL\n",
            "Phishing URL\n"
          ],
          "name": "stdout"
        }
      ]
    },
    {
      "cell_type": "markdown",
      "metadata": {
        "id": "SYTCcxVyr1Yo"
      },
      "source": [
        "Rule 7: IF {\n",
        "ThePosition of the Last Occurrence of \"//\" in the URL > 7 → Phishing\n",
        "\n",
        "Otherwise → Legitimate"
      ]
    },
    {
      "cell_type": "code",
      "metadata": {
        "colab": {
          "base_uri": "https://localhost:8080/"
        },
        "id": "Bf1sD8VFsYPx",
        "outputId": "f91937f4-5826-4d3f-af08-01a1df9317c6"
      },
      "source": [
        "str = \"//\"\n",
        "URL1 = \"http://www.legitimate.com//http://www.phishing.com\"\n",
        "URL2 = \"https://iccibank.com\"\n",
        "\n",
        "if URL1.rindex(str) > 7:\n",
        "  print(\"Phishing URL\")\n",
        "else :\n",
        "  print(\"Legitimate URL\")\n",
        "\n",
        "\n",
        "if URL2.rindex(str) > 7:\n",
        "  print(\"Phishing URL\")\n",
        "else :\n",
        "  print(\"Legitimate URL\")\n",
        "\n",
        "  \n"
      ],
      "execution_count": null,
      "outputs": [
        {
          "output_type": "stream",
          "text": [
            "Phishing URL\n",
            "Legitimate URL\n"
          ],
          "name": "stdout"
        }
      ]
    },
    {
      "cell_type": "markdown",
      "metadata": {
        "id": "nvL3Rj_Qj814"
      },
      "source": [
        ""
      ]
    }
  ]
}