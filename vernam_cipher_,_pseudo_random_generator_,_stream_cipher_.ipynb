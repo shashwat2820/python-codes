{
  "nbformat": 4,
  "nbformat_minor": 0,
  "metadata": {
    "colab": {
      "name": "vernam cipher , pseudo random generator , stream cipher .ipynb",
      "provenance": [],
      "authorship_tag": "ABX9TyPyyuILbfIXgNbgqUtajzgp",
      "include_colab_link": true
    },
    "kernelspec": {
      "name": "python3",
      "display_name": "Python 3"
    },
    "language_info": {
      "name": "python"
    }
  },
  "cells": [
    {
      "cell_type": "markdown",
      "metadata": {
        "id": "view-in-github",
        "colab_type": "text"
      },
      "source": [
        "<a href=\"https://colab.research.google.com/github/shashwat2820/python-codes/blob/main/vernam_cipher_%2C_pseudo_random_generator_%2C_stream_cipher_.ipynb\" target=\"_parent\"><img src=\"https://colab.research.google.com/assets/colab-badge.svg\" alt=\"Open In Colab\"/></a>"
      ]
    },
    {
      "cell_type": "code",
      "metadata": {
        "colab": {
          "base_uri": "https://localhost:8080/"
        },
        "id": "PcsvZsHQ5qSK",
        "outputId": "d28791ca-b00d-40cb-fc2f-35d5dd573a30"
      },
      "source": [
        "#Vernam cipher\n",
        "# encryption function \n",
        "def encrypt(message , key):\n",
        "  message.lower()\n",
        "  key.lower()\n",
        "\n",
        "  message_list = []\n",
        "  for char in message:\n",
        "    num = ord(char) - 96\n",
        "    message_list.append(num)\n",
        "\n",
        "  key_list = []\n",
        "  for char in key:\n",
        "    num = ord(char) - 96\n",
        "    key_list.append(num)\n",
        "\n",
        "  encryption = []\n",
        "  for i in range(0 , len(message_list)):\n",
        "    encryption.append((message_list[i] + key_list[i])%26)\n",
        "\n",
        "  return encryption\n",
        "\n",
        "#decyrtion function \n",
        "def decrypt(message , key):\n",
        "  message.lower()\n",
        "  key.lower()\n",
        "\n",
        "  message_list = []\n",
        "  for char in message:\n",
        "    num = ord(char) - 96\n",
        "    message_list.append(num)\n",
        "\n",
        "  key_list = []\n",
        "  for char in key:\n",
        "    num = ord(char) - 96\n",
        "    key_list.append(num)\n",
        "\n",
        "  encryption = []\n",
        "  for i in range(0 , len(message_list)):\n",
        "    encryption.append((message_list[i] - key_list[i])%26)\n",
        "\n",
        "  return encryption\n",
        "\n",
        "\n",
        "def main():\n",
        "  m = input(\"please enter the message to be encrypted:\")\n",
        "  k = input(\"please enter the key of your choice:\")\n",
        "\n",
        "  output = []\n",
        "  output_message = []\n",
        "  output = encrypt(m,k)\n",
        "\n",
        "\n",
        "  for i in  range(0 , len(output)):\n",
        "    output_message.append(chr(output[i]+96))\n",
        "\n",
        "\n",
        "\n",
        "  text = ''.join([str(elem) for elem in output_message ])\n",
        "  print('the encrypted text : ' , text)\n",
        "\n",
        "\n",
        "  output1 = []\n",
        "  output_message1 = []\n",
        "  output1 = decrypt(text,k)\n",
        "\n",
        "\n",
        "  for i in  range(0 , len(output1)):\n",
        "    output_message1.append(chr(output1[i]+96))\n",
        "\n",
        "\n",
        "\n",
        "  text1 = ''.join([str(elem) for elem in output_message1 ])\n",
        "  print('the decrypted text : ' , text1)\n",
        "\n",
        "if __name__ == '__main__':\n",
        "    main()D\n",
        "\n"
      ],
      "execution_count": null,
      "outputs": [
        {
          "output_type": "stream",
          "text": [
            "please enter the message to be encrypted:privacy\n",
            "please enter the key of your choice:abcdefg\n",
            "the encrypted text :  qtl`fif\n",
            "the decrypted text :  privacy\n"
          ],
          "name": "stdout"
        }
      ]
    },
    {
      "cell_type": "code",
      "metadata": {
        "colab": {
          "base_uri": "https://localhost:8080/"
        },
        "id": "oV7Tzo5MLYjy",
        "outputId": "8cb144b8-5a31-4d51-ae18-91b22528c4f4"
      },
      "source": [
        "#pseudo-random generator \n",
        "def pseudo_random_genarator(modulus,multiplier,incrementer,seed):\n",
        "    numbers_list = []\n",
        "    count=0\n",
        "    for i in range(modulus):\n",
        "        seed = ((multiplier*seed)+incrementer)%modulus\n",
        "        if seed in numbers_list:\n",
        "            number = i\n",
        "            break\n",
        "        numbers_list.append(seed)\n",
        "    return numbers_list\n",
        "\n",
        "modulus = int(input(\"Please enter the value of modulus : \"))\n",
        "multiplier = int(input((\"Please enter the value of multiplier : \")))\n",
        "incrementer = int(input((\"Please enter the value of incrementer : \")))\n",
        "seed_value = int(input((\"Please enter the value of seed : \")))\n",
        "result = pseudo_random_genarator(modulus,multiplier,incrementer,seed_value)\n",
        "print(result)\n",
        "print(f\"This series of {len(result)} numbers will repeat again and again after '{result[-1]}'\")"
      ],
      "execution_count": null,
      "outputs": [
        {
          "output_type": "stream",
          "text": [
            "Please enter the value of modulus : 7\n",
            "Please enter the value of multiplier : 21\n",
            "Please enter the value of incrementer : 12\n",
            "Please enter the value of seed : 7\n",
            "[5]\n",
            "This series of 1 numbers will repeat again and again after '5'\n"
          ],
          "name": "stdout"
        }
      ]
    },
    {
      "cell_type": "code",
      "metadata": {
        "colab": {
          "base_uri": "https://localhost:8080/"
        },
        "id": "vIqxWbOLPxLu",
        "outputId": "bfa2dfa2-a43b-450c-a718-78e1287c0cf1"
      },
      "source": [
        "#stream cipher\n",
        "import random\n",
        "import string\n",
        "\n",
        "def shift(current_position, distance, direction: (0, 1)):\n",
        "    direction = 1 if direction else -1\n",
        "    return current_position + direction * distance\n",
        "\n",
        "def stream_cipher(message, key, do_encrypt=True):\n",
        "    \n",
        "    random.seed(key)\n",
        "    \n",
        "    characters = 2 * (\n",
        "                      string.ascii_letters +\n",
        "                      string.digits +\n",
        "                      string.punctuation + ' '\n",
        "                     )\n",
        "    \n",
        "    lenchars = len(characters)//2\n",
        "    \n",
        "    return ''.join([characters[shift(characters.index(message[each_char]), lenchars - int(lenchars * random.random()), do_encrypt)] for each_char in range(len(message))])\n",
        "\n",
        "def main():\n",
        "    message = input(\"Input a message: \")\n",
        "    key = input(\"Input a key: \")\n",
        "    while True:\n",
        "        do_encrypt = input(\"Encrypt or decrypt the message? (1,0): \")\n",
        "        if do_encrypt in ('1', '0'):\n",
        "            break\n",
        "        print(\"Please input a valid number,\\n\"\n",
        "              \"either 0 for decryption or 1 for encryption.\")\n",
        "    print(stream_cipher(message, key, do_encrypt == '1'))\n",
        "    input(\"Press enter to exit.\")\n",
        "\n",
        "if __name__ == '__main__':\n",
        "    main()\n"
      ],
      "execution_count": null,
      "outputs": [
        {
          "output_type": "stream",
          "text": [
            "Input a message: data privacy\n",
            "Input a key: key123\n",
            "Encrypt or decrypt the message? (1,0): 1\n",
            "Y+b^S.:HUfH/\n",
            "Press enter to exit.\n"
          ],
          "name": "stdout"
        }
      ]
    }
  ]
}