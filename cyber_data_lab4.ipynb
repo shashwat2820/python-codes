{
  "nbformat": 4,
  "nbformat_minor": 0,
  "metadata": {
    "colab": {
      "name": "cyber_data_lab4.ipynb",
      "provenance": [],
      "authorship_tag": "ABX9TyNmGK4848mNUnEHP8eyK0Vg",
      "include_colab_link": true
    },
    "kernelspec": {
      "name": "python3",
      "display_name": "Python 3"
    },
    "language_info": {
      "name": "python"
    }
  },
  "cells": [
    {
      "cell_type": "markdown",
      "metadata": {
        "id": "view-in-github",
        "colab_type": "text"
      },
      "source": [
        "<a href=\"https://colab.research.google.com/github/shashwat2820/python-codes/blob/main/cyber_data_lab4.ipynb\" target=\"_parent\"><img src=\"https://colab.research.google.com/assets/colab-badge.svg\" alt=\"Open In Colab\"/></a>"
      ]
    },
    {
      "cell_type": "code",
      "metadata": {
        "colab": {
          "resources": {
            "http://localhost:8080/nbextensions/google.colab/files.js": {
              "data": "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",
              "ok": true,
              "headers": [
                [
                  "content-type",
                  "application/javascript"
                ]
              ],
              "status": 200,
              "status_text": ""
            }
          },
          "base_uri": "https://localhost:8080/",
          "height": 73
        },
        "id": "KhtXoTuRSqnE",
        "outputId": "6c7db85c-4fa2-467e-a2a8-1a5c299cf112"
      },
      "source": [
        "import  pandas as pd \n",
        "\n",
        "from google.colab import files \n",
        "uploaded = files.upload()"
      ],
      "execution_count": null,
      "outputs": [
        {
          "output_type": "display_data",
          "data": {
            "text/html": [
              "\n",
              "     <input type=\"file\" id=\"files-23d06e0c-c8f3-4105-a5df-239d5b413b0f\" name=\"files[]\" multiple disabled\n",
              "        style=\"border:none\" />\n",
              "     <output id=\"result-23d06e0c-c8f3-4105-a5df-239d5b413b0f\">\n",
              "      Upload widget is only available when the cell has been executed in the\n",
              "      current browser session. Please rerun this cell to enable.\n",
              "      </output>\n",
              "      <script src=\"/nbextensions/google.colab/files.js\"></script> "
            ],
            "text/plain": [
              "<IPython.core.display.HTML object>"
            ]
          },
          "metadata": {
            "tags": []
          }
        },
        {
          "output_type": "stream",
          "text": [
            "Saving atlcrime.csv - atlcrime.csv.csv to atlcrime.csv - atlcrime.csv.csv\n"
          ],
          "name": "stdout"
        }
      ]
    },
    {
      "cell_type": "code",
      "metadata": {
        "colab": {
          "base_uri": "https://localhost:8080/"
        },
        "id": "o3mPJ0dAoh6Y",
        "outputId": "397755c2-9a4c-4357-cf14-d41c6c26e4b7"
      },
      "source": [
        "for fn in uploaded.keys():\n",
        "  print('User uploaded file \"{name}\" with length {length} bytes'.format(\n",
        "      name=fn, length=len(uploaded[fn])))"
      ],
      "execution_count": null,
      "outputs": [
        {
          "output_type": "stream",
          "text": [
            "User uploaded file \"atlcrime.csv - atlcrime.csv.csv\" with length 28483116 bytes\n"
          ],
          "name": "stdout"
        }
      ]
    },
    {
      "cell_type": "code",
      "metadata": {
        "colab": {
          "base_uri": "https://localhost:8080/",
          "height": 417
        },
        "id": "QYTuQaegozkA",
        "outputId": "bbbb1a42-f090-4cfa-88ce-d774b6ca6659"
      },
      "source": [
        "''' 2. Decode the data set using UTF-8 encoding\n",
        "3. Copy the data set into Panda Frame\n",
        "4. Print the entire data frame'''\n",
        "import io\n",
        "df = pd.read_csv(io.StringIO(uploaded['atlcrime.csv - atlcrime.csv.csv'].decode('utf-8')))\n",
        "df "
      ],
      "execution_count": null,
      "outputs": [
        {
          "output_type": "execute_result",
          "data": {
            "text/html": [
              "<div>\n",
              "<style scoped>\n",
              "    .dataframe tbody tr th:only-of-type {\n",
              "        vertical-align: middle;\n",
              "    }\n",
              "\n",
              "    .dataframe tbody tr th {\n",
              "        vertical-align: top;\n",
              "    }\n",
              "\n",
              "    .dataframe thead th {\n",
              "        text-align: right;\n",
              "    }\n",
              "</style>\n",
              "<table border=\"1\" class=\"dataframe\">\n",
              "  <thead>\n",
              "    <tr style=\"text-align: right;\">\n",
              "      <th></th>\n",
              "      <th>Unnamed: 0</th>\n",
              "      <th>crime</th>\n",
              "      <th>number</th>\n",
              "      <th>date</th>\n",
              "      <th>location</th>\n",
              "      <th>beat</th>\n",
              "      <th>neighborhood</th>\n",
              "      <th>npu</th>\n",
              "      <th>lat</th>\n",
              "      <th>long</th>\n",
              "    </tr>\n",
              "  </thead>\n",
              "  <tbody>\n",
              "    <tr>\n",
              "      <th>0</th>\n",
              "      <td>0</td>\n",
              "      <td>LARCENY-NON VEHICLE</td>\n",
              "      <td>103040029</td>\n",
              "      <td>10/31/2010</td>\n",
              "      <td>610 SPRING ST NW</td>\n",
              "      <td>509.0</td>\n",
              "      <td>Downtown</td>\n",
              "      <td>M</td>\n",
              "      <td>33.77101</td>\n",
              "      <td>-84.38895</td>\n",
              "    </tr>\n",
              "    <tr>\n",
              "      <th>1</th>\n",
              "      <td>1</td>\n",
              "      <td>AUTO THEFT</td>\n",
              "      <td>103040061</td>\n",
              "      <td>10/31/2010</td>\n",
              "      <td>850 OAK ST SW</td>\n",
              "      <td>401.0</td>\n",
              "      <td>West End</td>\n",
              "      <td>T</td>\n",
              "      <td>33.74057</td>\n",
              "      <td>-84.41680</td>\n",
              "    </tr>\n",
              "    <tr>\n",
              "      <th>2</th>\n",
              "      <td>2</td>\n",
              "      <td>LARCENY-FROM VEHICLE</td>\n",
              "      <td>103040169</td>\n",
              "      <td>10/31/2010</td>\n",
              "      <td>1344 METROPOLITAN PKWY SW</td>\n",
              "      <td>301.0</td>\n",
              "      <td>Capitol View Manor</td>\n",
              "      <td>X</td>\n",
              "      <td>33.71803</td>\n",
              "      <td>-84.40774</td>\n",
              "    </tr>\n",
              "    <tr>\n",
              "      <th>3</th>\n",
              "      <td>3</td>\n",
              "      <td>AUTO THEFT</td>\n",
              "      <td>103040174</td>\n",
              "      <td>10/31/2010</td>\n",
              "      <td>1752 PRYOR RD SW</td>\n",
              "      <td>307.0</td>\n",
              "      <td>Betmar LaVilla</td>\n",
              "      <td>Y</td>\n",
              "      <td>33.70731</td>\n",
              "      <td>-84.39674</td>\n",
              "    </tr>\n",
              "    <tr>\n",
              "      <th>4</th>\n",
              "      <td>4</td>\n",
              "      <td>LARCENY-NON VEHICLE</td>\n",
              "      <td>103040301</td>\n",
              "      <td>10/31/2010</td>\n",
              "      <td>JOHN WESLEY DOBBS AVE NE / CORLEY ST NE</td>\n",
              "      <td>604.0</td>\n",
              "      <td>Old Fourth Ward</td>\n",
              "      <td>M</td>\n",
              "      <td>33.75947</td>\n",
              "      <td>-84.36626</td>\n",
              "    </tr>\n",
              "    <tr>\n",
              "      <th>...</th>\n",
              "      <td>...</td>\n",
              "      <td>...</td>\n",
              "      <td>...</td>\n",
              "      <td>...</td>\n",
              "      <td>...</td>\n",
              "      <td>...</td>\n",
              "      <td>...</td>\n",
              "      <td>...</td>\n",
              "      <td>...</td>\n",
              "      <td>...</td>\n",
              "    </tr>\n",
              "    <tr>\n",
              "      <th>270683</th>\n",
              "      <td>270683</td>\n",
              "      <td>BURGLARY-RESIDENCE</td>\n",
              "      <td>92442142</td>\n",
              "      <td>09/01/2009</td>\n",
              "      <td>1226 PORTLAND AVE SE</td>\n",
              "      <td>612.0</td>\n",
              "      <td>East Atlanta</td>\n",
              "      <td>W</td>\n",
              "      <td>33.73927</td>\n",
              "      <td>-84.34741</td>\n",
              "    </tr>\n",
              "    <tr>\n",
              "      <th>270684</th>\n",
              "      <td>270684</td>\n",
              "      <td>LARCENY-FROM VEHICLE</td>\n",
              "      <td>92442164</td>\n",
              "      <td>09/01/2009</td>\n",
              "      <td>317 PICKFAIR WAY SW</td>\n",
              "      <td>307.0</td>\n",
              "      <td>Lakewood Heights</td>\n",
              "      <td>Y</td>\n",
              "      <td>33.70436</td>\n",
              "      <td>-84.40013</td>\n",
              "    </tr>\n",
              "    <tr>\n",
              "      <th>270685</th>\n",
              "      <td>270685</td>\n",
              "      <td>LARCENY-NON VEHICLE</td>\n",
              "      <td>92448045</td>\n",
              "      <td>09/01/2009</td>\n",
              "      <td>6234 SPINE RD @ATRIUM</td>\n",
              "      <td>50.0</td>\n",
              "      <td>NaN</td>\n",
              "      <td>NaN</td>\n",
              "      <td>33.64068</td>\n",
              "      <td>-84.44204</td>\n",
              "    </tr>\n",
              "    <tr>\n",
              "      <th>270686</th>\n",
              "      <td>270686</td>\n",
              "      <td>LARCENY-NON VEHICLE</td>\n",
              "      <td>92440866</td>\n",
              "      <td>09/01/2009</td>\n",
              "      <td>30 WARREN ST</td>\n",
              "      <td>610.0</td>\n",
              "      <td>Kirkwood</td>\n",
              "      <td>O</td>\n",
              "      <td>33.75374</td>\n",
              "      <td>-84.32600</td>\n",
              "    </tr>\n",
              "    <tr>\n",
              "      <th>270687</th>\n",
              "      <td>270687</td>\n",
              "      <td>HOMICIDE</td>\n",
              "      <td>92440372058</td>\n",
              "      <td>09/01/2009</td>\n",
              "      <td>2860 MARTIN L KING JR DR SW</td>\n",
              "      <td>405.0</td>\n",
              "      <td>Harland Terrace</td>\n",
              "      <td>I</td>\n",
              "      <td>33.75399</td>\n",
              "      <td>-84.48138</td>\n",
              "    </tr>\n",
              "  </tbody>\n",
              "</table>\n",
              "<p>270688 rows × 10 columns</p>\n",
              "</div>"
            ],
            "text/plain": [
              "        Unnamed: 0                 crime       number  ...  npu       lat      long\n",
              "0                0   LARCENY-NON VEHICLE    103040029  ...    M  33.77101 -84.38895\n",
              "1                1            AUTO THEFT    103040061  ...    T  33.74057 -84.41680\n",
              "2                2  LARCENY-FROM VEHICLE    103040169  ...    X  33.71803 -84.40774\n",
              "3                3            AUTO THEFT    103040174  ...    Y  33.70731 -84.39674\n",
              "4                4   LARCENY-NON VEHICLE    103040301  ...    M  33.75947 -84.36626\n",
              "...            ...                   ...          ...  ...  ...       ...       ...\n",
              "270683      270683    BURGLARY-RESIDENCE     92442142  ...    W  33.73927 -84.34741\n",
              "270684      270684  LARCENY-FROM VEHICLE     92442164  ...    Y  33.70436 -84.40013\n",
              "270685      270685   LARCENY-NON VEHICLE     92448045  ...  NaN  33.64068 -84.44204\n",
              "270686      270686   LARCENY-NON VEHICLE     92440866  ...    O  33.75374 -84.32600\n",
              "270687      270687              HOMICIDE  92440372058  ...    I  33.75399 -84.48138\n",
              "\n",
              "[270688 rows x 10 columns]"
            ]
          },
          "metadata": {
            "tags": []
          },
          "execution_count": 32
        }
      ]
    },
    {
      "cell_type": "code",
      "metadata": {
        "colab": {
          "base_uri": "https://localhost:8080/"
        },
        "id": "4lLhnH5o34zX",
        "outputId": "673cc5af-0457-460d-abc5-e80c517d42b2"
      },
      "source": [
        "#Count the number of rows in data set\n",
        "df.count() "
      ],
      "execution_count": null,
      "outputs": [
        {
          "output_type": "execute_result",
          "data": {
            "text/plain": [
              "Unnamed: 0      270688\n",
              "crime           270688\n",
              "number          270688\n",
              "date            270688\n",
              "location        270686\n",
              "beat            270685\n",
              "neighborhood    258928\n",
              "npu             268592\n",
              "lat             270688\n",
              "long            270688\n",
              "dtype: int64"
            ]
          },
          "metadata": {
            "tags": []
          },
          "execution_count": 66
        }
      ]
    },
    {
      "cell_type": "code",
      "metadata": {
        "colab": {
          "base_uri": "https://localhost:8080/",
          "height": 203
        },
        "id": "8dK2Geq_TBjD",
        "outputId": "bb3d12e7-88d2-4352-e202-f27c9e41b136"
      },
      "source": [
        "#Print starting five rows\n",
        "df.head(5)"
      ],
      "execution_count": null,
      "outputs": [
        {
          "output_type": "execute_result",
          "data": {
            "text/html": [
              "<div>\n",
              "<style scoped>\n",
              "    .dataframe tbody tr th:only-of-type {\n",
              "        vertical-align: middle;\n",
              "    }\n",
              "\n",
              "    .dataframe tbody tr th {\n",
              "        vertical-align: top;\n",
              "    }\n",
              "\n",
              "    .dataframe thead th {\n",
              "        text-align: right;\n",
              "    }\n",
              "</style>\n",
              "<table border=\"1\" class=\"dataframe\">\n",
              "  <thead>\n",
              "    <tr style=\"text-align: right;\">\n",
              "      <th></th>\n",
              "      <th>Unnamed: 0</th>\n",
              "      <th>crime</th>\n",
              "      <th>number</th>\n",
              "      <th>date</th>\n",
              "      <th>location</th>\n",
              "      <th>beat</th>\n",
              "      <th>neighborhood</th>\n",
              "      <th>npu</th>\n",
              "      <th>lat</th>\n",
              "      <th>long</th>\n",
              "    </tr>\n",
              "  </thead>\n",
              "  <tbody>\n",
              "    <tr>\n",
              "      <th>0</th>\n",
              "      <td>0</td>\n",
              "      <td>LARCENY-NON VEHICLE</td>\n",
              "      <td>103040029</td>\n",
              "      <td>10/31/2010</td>\n",
              "      <td>610 SPRING ST NW</td>\n",
              "      <td>509.0</td>\n",
              "      <td>Downtown</td>\n",
              "      <td>M</td>\n",
              "      <td>33.77101</td>\n",
              "      <td>-84.38895</td>\n",
              "    </tr>\n",
              "    <tr>\n",
              "      <th>1</th>\n",
              "      <td>1</td>\n",
              "      <td>AUTO THEFT</td>\n",
              "      <td>103040061</td>\n",
              "      <td>10/31/2010</td>\n",
              "      <td>850 OAK ST SW</td>\n",
              "      <td>401.0</td>\n",
              "      <td>West End</td>\n",
              "      <td>T</td>\n",
              "      <td>33.74057</td>\n",
              "      <td>-84.41680</td>\n",
              "    </tr>\n",
              "    <tr>\n",
              "      <th>2</th>\n",
              "      <td>2</td>\n",
              "      <td>LARCENY-FROM VEHICLE</td>\n",
              "      <td>103040169</td>\n",
              "      <td>10/31/2010</td>\n",
              "      <td>1344 METROPOLITAN PKWY SW</td>\n",
              "      <td>301.0</td>\n",
              "      <td>Capitol View Manor</td>\n",
              "      <td>X</td>\n",
              "      <td>33.71803</td>\n",
              "      <td>-84.40774</td>\n",
              "    </tr>\n",
              "    <tr>\n",
              "      <th>3</th>\n",
              "      <td>3</td>\n",
              "      <td>AUTO THEFT</td>\n",
              "      <td>103040174</td>\n",
              "      <td>10/31/2010</td>\n",
              "      <td>1752 PRYOR RD SW</td>\n",
              "      <td>307.0</td>\n",
              "      <td>Betmar LaVilla</td>\n",
              "      <td>Y</td>\n",
              "      <td>33.70731</td>\n",
              "      <td>-84.39674</td>\n",
              "    </tr>\n",
              "    <tr>\n",
              "      <th>4</th>\n",
              "      <td>4</td>\n",
              "      <td>LARCENY-NON VEHICLE</td>\n",
              "      <td>103040301</td>\n",
              "      <td>10/31/2010</td>\n",
              "      <td>JOHN WESLEY DOBBS AVE NE / CORLEY ST NE</td>\n",
              "      <td>604.0</td>\n",
              "      <td>Old Fourth Ward</td>\n",
              "      <td>M</td>\n",
              "      <td>33.75947</td>\n",
              "      <td>-84.36626</td>\n",
              "    </tr>\n",
              "  </tbody>\n",
              "</table>\n",
              "</div>"
            ],
            "text/plain": [
              "   Unnamed: 0                 crime     number  ... npu       lat      long\n",
              "0           0   LARCENY-NON VEHICLE  103040029  ...   M  33.77101 -84.38895\n",
              "1           1            AUTO THEFT  103040061  ...   T  33.74057 -84.41680\n",
              "2           2  LARCENY-FROM VEHICLE  103040169  ...   X  33.71803 -84.40774\n",
              "3           3            AUTO THEFT  103040174  ...   Y  33.70731 -84.39674\n",
              "4           4   LARCENY-NON VEHICLE  103040301  ...   M  33.75947 -84.36626\n",
              "\n",
              "[5 rows x 10 columns]"
            ]
          },
          "metadata": {
            "tags": []
          },
          "execution_count": 33
        }
      ]
    },
    {
      "cell_type": "code",
      "metadata": {
        "colab": {
          "base_uri": "https://localhost:8080/",
          "height": 357
        },
        "id": "r5rPlAC4TF_P",
        "outputId": "f9b4a2fc-55b4-43a2-89ce-a5e0b354aec4"
      },
      "source": [
        "#Print last 10 rows\n",
        "df.tail(10)"
      ],
      "execution_count": null,
      "outputs": [
        {
          "output_type": "execute_result",
          "data": {
            "text/html": [
              "<div>\n",
              "<style scoped>\n",
              "    .dataframe tbody tr th:only-of-type {\n",
              "        vertical-align: middle;\n",
              "    }\n",
              "\n",
              "    .dataframe tbody tr th {\n",
              "        vertical-align: top;\n",
              "    }\n",
              "\n",
              "    .dataframe thead th {\n",
              "        text-align: right;\n",
              "    }\n",
              "</style>\n",
              "<table border=\"1\" class=\"dataframe\">\n",
              "  <thead>\n",
              "    <tr style=\"text-align: right;\">\n",
              "      <th></th>\n",
              "      <th>Unnamed: 0</th>\n",
              "      <th>crime</th>\n",
              "      <th>number</th>\n",
              "      <th>date</th>\n",
              "      <th>location</th>\n",
              "      <th>beat</th>\n",
              "      <th>neighborhood</th>\n",
              "      <th>npu</th>\n",
              "      <th>lat</th>\n",
              "      <th>long</th>\n",
              "    </tr>\n",
              "  </thead>\n",
              "  <tbody>\n",
              "    <tr>\n",
              "      <th>270678</th>\n",
              "      <td>270678</td>\n",
              "      <td>LARCENY-FROM VEHICLE</td>\n",
              "      <td>92441196</td>\n",
              "      <td>09/01/2009</td>\n",
              "      <td>654 LARKIN STREET</td>\n",
              "      <td>101.0</td>\n",
              "      <td>Atlanta University Center</td>\n",
              "      <td>T</td>\n",
              "      <td>33.74805</td>\n",
              "      <td>-84.40905</td>\n",
              "    </tr>\n",
              "    <tr>\n",
              "      <th>270679</th>\n",
              "      <td>270679</td>\n",
              "      <td>LARCENY-NON VEHICLE</td>\n",
              "      <td>92441218</td>\n",
              "      <td>09/01/2009</td>\n",
              "      <td>449 OLIVER ST NW</td>\n",
              "      <td>103.0</td>\n",
              "      <td>English Avenue</td>\n",
              "      <td>L</td>\n",
              "      <td>33.76700</td>\n",
              "      <td>-84.41532</td>\n",
              "    </tr>\n",
              "    <tr>\n",
              "      <th>270680</th>\n",
              "      <td>270680</td>\n",
              "      <td>LARCENY-NON VEHICLE</td>\n",
              "      <td>92441230</td>\n",
              "      <td>09/01/2009</td>\n",
              "      <td>630 WAYNES CT SE</td>\n",
              "      <td>313.0</td>\n",
              "      <td>South River Gardens</td>\n",
              "      <td>Z</td>\n",
              "      <td>33.67202</td>\n",
              "      <td>-84.36817</td>\n",
              "    </tr>\n",
              "    <tr>\n",
              "      <th>270681</th>\n",
              "      <td>270681</td>\n",
              "      <td>LARCENY-FROM VEHICLE</td>\n",
              "      <td>92442058</td>\n",
              "      <td>09/01/2009</td>\n",
              "      <td>1071 LOS ANGELES AVE NE</td>\n",
              "      <td>601.0</td>\n",
              "      <td>Virginia Highland</td>\n",
              "      <td>F</td>\n",
              "      <td>33.78328</td>\n",
              "      <td>-84.35274</td>\n",
              "    </tr>\n",
              "    <tr>\n",
              "      <th>270682</th>\n",
              "      <td>270682</td>\n",
              "      <td>LARCENY-FROM VEHICLE</td>\n",
              "      <td>92442091</td>\n",
              "      <td>09/01/2009</td>\n",
              "      <td>W PEACHTREE ST NE / 17TH ST NE</td>\n",
              "      <td>502.0</td>\n",
              "      <td>Midtown</td>\n",
              "      <td>E</td>\n",
              "      <td>33.79184</td>\n",
              "      <td>-84.38777</td>\n",
              "    </tr>\n",
              "    <tr>\n",
              "      <th>270683</th>\n",
              "      <td>270683</td>\n",
              "      <td>BURGLARY-RESIDENCE</td>\n",
              "      <td>92442142</td>\n",
              "      <td>09/01/2009</td>\n",
              "      <td>1226 PORTLAND AVE SE</td>\n",
              "      <td>612.0</td>\n",
              "      <td>East Atlanta</td>\n",
              "      <td>W</td>\n",
              "      <td>33.73927</td>\n",
              "      <td>-84.34741</td>\n",
              "    </tr>\n",
              "    <tr>\n",
              "      <th>270684</th>\n",
              "      <td>270684</td>\n",
              "      <td>LARCENY-FROM VEHICLE</td>\n",
              "      <td>92442164</td>\n",
              "      <td>09/01/2009</td>\n",
              "      <td>317 PICKFAIR WAY SW</td>\n",
              "      <td>307.0</td>\n",
              "      <td>Lakewood Heights</td>\n",
              "      <td>Y</td>\n",
              "      <td>33.70436</td>\n",
              "      <td>-84.40013</td>\n",
              "    </tr>\n",
              "    <tr>\n",
              "      <th>270685</th>\n",
              "      <td>270685</td>\n",
              "      <td>LARCENY-NON VEHICLE</td>\n",
              "      <td>92448045</td>\n",
              "      <td>09/01/2009</td>\n",
              "      <td>6234 SPINE RD @ATRIUM</td>\n",
              "      <td>50.0</td>\n",
              "      <td>NaN</td>\n",
              "      <td>NaN</td>\n",
              "      <td>33.64068</td>\n",
              "      <td>-84.44204</td>\n",
              "    </tr>\n",
              "    <tr>\n",
              "      <th>270686</th>\n",
              "      <td>270686</td>\n",
              "      <td>LARCENY-NON VEHICLE</td>\n",
              "      <td>92440866</td>\n",
              "      <td>09/01/2009</td>\n",
              "      <td>30 WARREN ST</td>\n",
              "      <td>610.0</td>\n",
              "      <td>Kirkwood</td>\n",
              "      <td>O</td>\n",
              "      <td>33.75374</td>\n",
              "      <td>-84.32600</td>\n",
              "    </tr>\n",
              "    <tr>\n",
              "      <th>270687</th>\n",
              "      <td>270687</td>\n",
              "      <td>HOMICIDE</td>\n",
              "      <td>92440372058</td>\n",
              "      <td>09/01/2009</td>\n",
              "      <td>2860 MARTIN L KING JR DR SW</td>\n",
              "      <td>405.0</td>\n",
              "      <td>Harland Terrace</td>\n",
              "      <td>I</td>\n",
              "      <td>33.75399</td>\n",
              "      <td>-84.48138</td>\n",
              "    </tr>\n",
              "  </tbody>\n",
              "</table>\n",
              "</div>"
            ],
            "text/plain": [
              "        Unnamed: 0                 crime       number  ...  npu       lat      long\n",
              "270678      270678  LARCENY-FROM VEHICLE     92441196  ...    T  33.74805 -84.40905\n",
              "270679      270679   LARCENY-NON VEHICLE     92441218  ...    L  33.76700 -84.41532\n",
              "270680      270680   LARCENY-NON VEHICLE     92441230  ...    Z  33.67202 -84.36817\n",
              "270681      270681  LARCENY-FROM VEHICLE     92442058  ...    F  33.78328 -84.35274\n",
              "270682      270682  LARCENY-FROM VEHICLE     92442091  ...    E  33.79184 -84.38777\n",
              "270683      270683    BURGLARY-RESIDENCE     92442142  ...    W  33.73927 -84.34741\n",
              "270684      270684  LARCENY-FROM VEHICLE     92442164  ...    Y  33.70436 -84.40013\n",
              "270685      270685   LARCENY-NON VEHICLE     92448045  ...  NaN  33.64068 -84.44204\n",
              "270686      270686   LARCENY-NON VEHICLE     92440866  ...    O  33.75374 -84.32600\n",
              "270687      270687              HOMICIDE  92440372058  ...    I  33.75399 -84.48138\n",
              "\n",
              "[10 rows x 10 columns]"
            ]
          },
          "metadata": {
            "tags": []
          },
          "execution_count": 35
        }
      ]
    },
    {
      "cell_type": "code",
      "metadata": {
        "colab": {
          "base_uri": "https://localhost:8080/"
        },
        "id": "GIHh8K2TTK0G",
        "outputId": "3cbf916d-cc90-4320-fa0a-278c0b8e664f"
      },
      "source": [
        "df.columns"
      ],
      "execution_count": null,
      "outputs": [
        {
          "output_type": "execute_result",
          "data": {
            "text/plain": [
              "Index(['Unnamed: 0', 'crime', 'number', 'date', 'location', 'beat',\n",
              "       'neighborhood', 'npu', 'lat', 'long'],\n",
              "      dtype='object')"
            ]
          },
          "metadata": {
            "tags": []
          },
          "execution_count": 34
        }
      ]
    },
    {
      "cell_type": "code",
      "metadata": {
        "colab": {
          "base_uri": "https://localhost:8080/",
          "height": 295
        },
        "id": "KHWfqfuWTSZr",
        "outputId": "9fd97913-f239-4c06-912b-633000f23389"
      },
      "source": [
        "df.describe()"
      ],
      "execution_count": null,
      "outputs": [
        {
          "output_type": "execute_result",
          "data": {
            "text/html": [
              "<div>\n",
              "<style scoped>\n",
              "    .dataframe tbody tr th:only-of-type {\n",
              "        vertical-align: middle;\n",
              "    }\n",
              "\n",
              "    .dataframe tbody tr th {\n",
              "        vertical-align: top;\n",
              "    }\n",
              "\n",
              "    .dataframe thead th {\n",
              "        text-align: right;\n",
              "    }\n",
              "</style>\n",
              "<table border=\"1\" class=\"dataframe\">\n",
              "  <thead>\n",
              "    <tr style=\"text-align: right;\">\n",
              "      <th></th>\n",
              "      <th>Unnamed: 0</th>\n",
              "      <th>number</th>\n",
              "      <th>beat</th>\n",
              "      <th>lat</th>\n",
              "      <th>long</th>\n",
              "    </tr>\n",
              "  </thead>\n",
              "  <tbody>\n",
              "    <tr>\n",
              "      <th>count</th>\n",
              "      <td>270688.000000</td>\n",
              "      <td>2.706880e+05</td>\n",
              "      <td>270685.000000</td>\n",
              "      <td>270688.000000</td>\n",
              "      <td>270688.000000</td>\n",
              "    </tr>\n",
              "    <tr>\n",
              "      <th>mean</th>\n",
              "      <td>135343.500000</td>\n",
              "      <td>4.705194e+08</td>\n",
              "      <td>358.647062</td>\n",
              "      <td>33.755246</td>\n",
              "      <td>-84.408178</td>\n",
              "    </tr>\n",
              "    <tr>\n",
              "      <th>std</th>\n",
              "      <td>78141.039171</td>\n",
              "      <td>6.768886e+09</td>\n",
              "      <td>170.173062</td>\n",
              "      <td>0.045540</td>\n",
              "      <td>0.047298</td>\n",
              "    </tr>\n",
              "    <tr>\n",
              "      <th>min</th>\n",
              "      <td>0.000000</td>\n",
              "      <td>7.269234e+07</td>\n",
              "      <td>50.000000</td>\n",
              "      <td>33.460100</td>\n",
              "      <td>-84.550500</td>\n",
              "    </tr>\n",
              "    <tr>\n",
              "      <th>25%</th>\n",
              "      <td>67671.750000</td>\n",
              "      <td>1.029113e+08</td>\n",
              "      <td>208.000000</td>\n",
              "      <td>33.727780</td>\n",
              "      <td>-84.433880</td>\n",
              "    </tr>\n",
              "    <tr>\n",
              "      <th>50%</th>\n",
              "      <td>135343.500000</td>\n",
              "      <td>1.227606e+08</td>\n",
              "      <td>401.000000</td>\n",
              "      <td>33.755380</td>\n",
              "      <td>-84.397520</td>\n",
              "    </tr>\n",
              "    <tr>\n",
              "      <th>75%</th>\n",
              "      <td>203015.250000</td>\n",
              "      <td>1.432412e+08</td>\n",
              "      <td>506.000000</td>\n",
              "      <td>33.780140</td>\n",
              "      <td>-84.374090</td>\n",
              "    </tr>\n",
              "    <tr>\n",
              "      <th>max</th>\n",
              "      <td>270687.000000</td>\n",
              "      <td>1.704427e+11</td>\n",
              "      <td>902.000000</td>\n",
              "      <td>33.886130</td>\n",
              "      <td>-84.286410</td>\n",
              "    </tr>\n",
              "  </tbody>\n",
              "</table>\n",
              "</div>"
            ],
            "text/plain": [
              "          Unnamed: 0        number           beat            lat           long\n",
              "count  270688.000000  2.706880e+05  270685.000000  270688.000000  270688.000000\n",
              "mean   135343.500000  4.705194e+08     358.647062      33.755246     -84.408178\n",
              "std     78141.039171  6.768886e+09     170.173062       0.045540       0.047298\n",
              "min         0.000000  7.269234e+07      50.000000      33.460100     -84.550500\n",
              "25%     67671.750000  1.029113e+08     208.000000      33.727780     -84.433880\n",
              "50%    135343.500000  1.227606e+08     401.000000      33.755380     -84.397520\n",
              "75%    203015.250000  1.432412e+08     506.000000      33.780140     -84.374090\n",
              "max    270687.000000  1.704427e+11     902.000000      33.886130     -84.286410"
            ]
          },
          "metadata": {
            "tags": []
          },
          "execution_count": 36
        }
      ]
    },
    {
      "cell_type": "code",
      "metadata": {
        "colab": {
          "base_uri": "https://localhost:8080/"
        },
        "id": "Y9Mex4pMTbBq",
        "outputId": "0e0b84bb-28a1-4d7a-d032-e6f42ff0e7b9"
      },
      "source": [
        "df.info()"
      ],
      "execution_count": null,
      "outputs": [
        {
          "output_type": "stream",
          "text": [
            "<class 'pandas.core.frame.DataFrame'>\n",
            "RangeIndex: 270688 entries, 0 to 270687\n",
            "Data columns (total 10 columns):\n",
            " #   Column        Non-Null Count   Dtype  \n",
            "---  ------        --------------   -----  \n",
            " 0   Unnamed: 0    270688 non-null  int64  \n",
            " 1   crime         270688 non-null  object \n",
            " 2   number        270688 non-null  int64  \n",
            " 3   date          270688 non-null  object \n",
            " 4   location      270686 non-null  object \n",
            " 5   beat          270685 non-null  float64\n",
            " 6   neighborhood  258928 non-null  object \n",
            " 7   npu           268592 non-null  object \n",
            " 8   lat           270688 non-null  float64\n",
            " 9   long          270688 non-null  float64\n",
            "dtypes: float64(3), int64(2), object(5)\n",
            "memory usage: 20.7+ MB\n"
          ],
          "name": "stdout"
        }
      ]
    },
    {
      "cell_type": "code",
      "metadata": {
        "colab": {
          "base_uri": "https://localhost:8080/"
        },
        "id": "02wrrE5QTkQw",
        "outputId": "23c4c94b-633c-4654-9110-4ba04bcd2b57"
      },
      "source": [
        "'''Find the Average, Minimum, and Maximum of the following\n",
        "a. Latitude\n",
        "b. Longitude'''\n",
        "\n",
        "print(df['long'].mean())\n",
        "print(df['long'].min())\n",
        "print(df['long'].max())\n",
        "print(df['long'].count())"
      ],
      "execution_count": null,
      "outputs": [
        {
          "output_type": "stream",
          "text": [
            "-84.40817772978441\n",
            "-84.5505\n",
            "-84.28641\n",
            "270688\n"
          ],
          "name": "stdout"
        }
      ]
    },
    {
      "cell_type": "code",
      "metadata": {
        "colab": {
          "base_uri": "https://localhost:8080/"
        },
        "id": "pqxYz9zivzc9",
        "outputId": "bb9a827e-3212-4db0-c578-962e80da9043"
      },
      "source": [
        "'''\n",
        "Find the Average, Minimum, and Maximum of the following\n",
        "a. Latitude\n",
        "b. Longitude ''' \n",
        "print(df['lat'].mean())\n",
        "print(df['lat'].min())\n",
        "print(df['lat'].max())\n",
        "print(df['lat'].count())"
      ],
      "execution_count": null,
      "outputs": [
        {
          "output_type": "stream",
          "text": [
            "33.755245995872244\n",
            "33.4601\n",
            "33.88613\n",
            "270688\n"
          ],
          "name": "stdout"
        }
      ]
    },
    {
      "cell_type": "code",
      "metadata": {
        "colab": {
          "base_uri": "https://localhost:8080/",
          "height": 265
        },
        "id": "FhBbMUl8rlQ6",
        "outputId": "58053954-ac90-43a8-8cbe-349b75002414"
      },
      "source": [
        "#Draw the scatter plot between Latitude and Longitude\n",
        "import matplotlib.pyplot as plt \n",
        "x = df['lat']\n",
        "y = df['long']\n",
        "\n",
        "plt.scatter(x,y)\n",
        "plt.show()"
      ],
      "execution_count": null,
      "outputs": [
        {
          "output_type": "display_data",
          "data": {
            "image/png": "[encoded data removed]",
            "text/plain": [
              "<Figure size 432x288 with 1 Axes>"
            ]
          },
          "metadata": {
            "tags": [],
            "needs_background": "light"
          }
        }
      ]
    },
    {
      "cell_type": "code",
      "metadata": {
        "colab": {
          "base_uri": "https://localhost:8080/",
          "height": 416
        },
        "id": "vABu1ch_t3H5",
        "outputId": "89d01581-ac79-4474-ce1b-f742dea6706c"
      },
      "source": [
        "#Draw the scatter plot between Latitude and Longitude\n",
        "plt.hist(y,edgecolor='black' , bins = 20)"
      ],
      "execution_count": null,
      "outputs": [
        {
          "output_type": "execute_result",
          "data": {
            "text/plain": [
              "(array([  617.,  1392.,  5225., 10254., 10525.,  8045.,  9468., 11984.,\n",
              "        13281., 16607., 32368., 29951., 43658., 30101., 26753., 12254.,\n",
              "         4052.,  2580.,   802.,   771.]),\n",
              " array([-84.5505   , -84.5372955, -84.524091 , -84.5108865, -84.497682 ,\n",
              "        -84.4844775, -84.471273 , -84.4580685, -84.444864 , -84.4316595,\n",
              "        -84.418455 , -84.4052505, -84.392046 , -84.3788415, -84.365637 ,\n",
              "        -84.3524325, -84.339228 , -84.3260235, -84.312819 , -84.2996145,\n",
              "        -84.28641  ]),\n",
              " <a list of 20 Patch objects>)"
            ]
          },
          "metadata": {
            "tags": []
          },
          "execution_count": 41
        },
        {
          "output_type": "display_data",
          "data": {
            "image/png": "[encoded data removed]",
            "text/plain": [
              "<Figure size 432x288 with 1 Axes>"
            ]
          },
          "metadata": {
            "tags": [],
            "needs_background": "light"
          }
        }
      ]
    },
    {
      "cell_type": "code",
      "metadata": {
        "colab": {
          "base_uri": "https://localhost:8080/",
          "height": 366
        },
        "id": "Dv0i71d11z7A",
        "outputId": "8c86b548-8383-425f-884d-97117f7cb102"
      },
      "source": [
        "#Draw the scatter plot between Latitude and Longitude\n",
        "plt.hist(y,edgecolor='black' , bins = 10)"
      ],
      "execution_count": null,
      "outputs": [
        {
          "output_type": "execute_result",
          "data": {
            "text/plain": [
              "(array([ 2009., 15479., 18570., 21452., 29888., 62319., 73759., 39007.,\n",
              "         6632.,  1573.]),\n",
              " array([-84.5505  , -84.524091, -84.497682, -84.471273, -84.444864,\n",
              "        -84.418455, -84.392046, -84.365637, -84.339228, -84.312819,\n",
              "        -84.28641 ]),\n",
              " <a list of 10 Patch objects>)"
            ]
          },
          "metadata": {
            "tags": []
          },
          "execution_count": 61
        },
        {
          "output_type": "display_data",
          "data": {
            "image/png": "[encoded data removed]",
            "text/plain": [
              "<Figure size 432x288 with 1 Axes>"
            ]
          },
          "metadata": {
            "tags": [],
            "needs_background": "light"
          }
        }
      ]
    },
    {
      "cell_type": "code",
      "metadata": {
        "colab": {
          "base_uri": "https://localhost:8080/",
          "height": 433
        },
        "id": "xVy9OoHiwCn4",
        "outputId": "eec65286-a719-486f-f328-5c629865fc5c"
      },
      "source": [
        "#Draw the Histogram of Latitude using 20 bins and 10 Bins\n",
        "plt.hist(x,edgecolor='black' , bins = 20)"
      ],
      "execution_count": null,
      "outputs": [
        {
          "output_type": "execute_result",
          "data": {
            "text/plain": [
              "(array([1.0000e+00, 0.0000e+00, 0.0000e+00, 0.0000e+00, 0.0000e+00,\n",
              "        0.0000e+00, 0.0000e+00, 3.8000e+01, 2.5100e+03, 7.7910e+03,\n",
              "        1.7063e+04, 2.5049e+04, 2.9832e+04, 6.4459e+04, 5.5570e+04,\n",
              "        2.6758e+04, 1.8775e+04, 8.9600e+03, 1.2343e+04, 1.5390e+03]),\n",
              " array([33.4601   , 33.4814015, 33.502703 , 33.5240045, 33.545306 ,\n",
              "        33.5666075, 33.587909 , 33.6092105, 33.630512 , 33.6518135,\n",
              "        33.673115 , 33.6944165, 33.715718 , 33.7370195, 33.758321 ,\n",
              "        33.7796225, 33.800924 , 33.8222255, 33.843527 , 33.8648285,\n",
              "        33.88613  ]),\n",
              " <a list of 20 Patch objects>)"
            ]
          },
          "metadata": {
            "tags": []
          },
          "execution_count": 42
        },
        {
          "output_type": "display_data",
          "data": {
            "image/png": "[encoded data removed]",
            "text/plain": [
              "<Figure size 432x288 with 1 Axes>"
            ]
          },
          "metadata": {
            "tags": [],
            "needs_background": "light"
          }
        }
      ]
    },
    {
      "cell_type": "code",
      "metadata": {
        "colab": {
          "base_uri": "https://localhost:8080/",
          "height": 349
        },
        "id": "-UXWzjHr122G",
        "outputId": "80b0e418-6142-44bd-e015-a1e9ca7d59c5"
      },
      "source": [
        "#Draw the Histogram of Latitude using 20 bins and 10 Bins\n",
        "plt.hist(x,edgecolor='black' , bins = 10)"
      ],
      "execution_count": null,
      "outputs": [
        {
          "output_type": "execute_result",
          "data": {
            "text/plain": [
              "(array([1.0000e+00, 0.0000e+00, 0.0000e+00, 3.8000e+01, 1.0301e+04,\n",
              "        4.2112e+04, 9.4291e+04, 8.2328e+04, 2.7735e+04, 1.3882e+04]),\n",
              " array([33.4601  , 33.502703, 33.545306, 33.587909, 33.630512, 33.673115,\n",
              "        33.715718, 33.758321, 33.800924, 33.843527, 33.88613 ]),\n",
              " <a list of 10 Patch objects>)"
            ]
          },
          "metadata": {
            "tags": []
          },
          "execution_count": 60
        },
        {
          "output_type": "display_data",
          "data": {
            "image/png": "[encoded data removed]",
            "text/plain": [
              "<Figure size 432x288 with 1 Axes>"
            ]
          },
          "metadata": {
            "tags": [],
            "needs_background": "light"
          }
        }
      ]
    },
    {
      "cell_type": "code",
      "metadata": {
        "colab": {
          "base_uri": "https://localhost:8080/"
        },
        "id": "4n1lgk_yx0T-",
        "outputId": "bf4dd622-cf3b-45ee-d0c2-fc0bd43e9d62"
      },
      "source": [
        "'''12. Find out whether following crime exists in database or not\n",
        "a. AUTO THEFT\n",
        "b. PHISHING\n",
        "c. AGG ASSAULT\n",
        "d. MALWARE ATTACK\n",
        "e. LARCENY-FROM VEHICLE\n",
        "f. IDENTITY THEFT\n",
        "g. TIME BOMB ATTACK\n",
        "'''\n",
        "if 'AUTO THEFT' in df.values:\n",
        "  print('AUTO THEFT Exists')\n",
        "else:\n",
        "  print('AUTO THEFT does not exist')\n",
        "\n",
        "if 'PHISHING' in df.values:\n",
        "  print('PHISHING Exists')\n",
        "else:\n",
        "  print('PHISHING does not exist')\n",
        "\n",
        "if 'AGG ASSAULT' in df.values:\n",
        "  print('AGG ASSAULT Exists')\n",
        "else:\n",
        "  print('AGG ASSAULT does not exist')\n",
        "\n",
        "if 'MALWARE ATTACK' in df.values:\n",
        "  print('MALWARE ATTACK Exists')\n",
        "else:\n",
        "  print('MALWARE ATTACK does not exist')\n",
        "\n",
        "if 'LARCENY-FROM VEHICLE' in df.values:\n",
        "  print('LARCENY-FROM VEHICLE Exists')\n",
        "else:\n",
        "  print('LARCENY-FROM VEHICLE does not exist')\n",
        "\n",
        "if 'IDENTITY THEFT' in df.values:\n",
        "  print('IDENTITY THEFT Exists')\n",
        "else:\n",
        "  print('IDENTITY THEFT does not exist')\n",
        "\n",
        "if 'TIME BOMB ATTACK' in df.values:\n",
        "  print('TIME BOMB ATTACK Exists')\n",
        "else:\n",
        "  print('TIME BOMB ATTACK does not exist')"
      ],
      "execution_count": null,
      "outputs": [
        {
          "output_type": "stream",
          "text": [
            "AUTO THEFT Exists\n",
            "PHISHING does not exist\n",
            "AGG ASSAULT Exists\n",
            "MALWARE ATTACK does not exist\n",
            "LARCENY-FROM VEHICLE Exists\n",
            "IDENTITY THEFT does not exist\n",
            "TIME BOMB ATTACK does not exist\n"
          ],
          "name": "stdout"
        }
      ]
    }
  ]
}